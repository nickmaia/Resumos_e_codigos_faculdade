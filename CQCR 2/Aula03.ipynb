{
 "cells": [
  {
   "cell_type": "markdown",
   "id": "d2ca7074-109e-4ca6-9eb3-48e3b8334f79",
   "metadata": {},
   "source": []
  },
  {
   "cell_type": "markdown",
   "id": "87d3809e-a389-48ce-b1aa-4e32b7ad3254",
   "metadata": {},
   "source": []
  },
  {
   "cell_type": "markdown",
   "id": "f8f3823d-66a5-4fde-8d20-f8852c5e93f6",
   "metadata": {},
   "source": []
  },
  {
   "cell_type": "markdown",
   "id": "0336efee-78a4-4c75-9bdd-1c9f6d5f17ad",
   "metadata": {},
   "source": []
  },
  {
   "cell_type": "markdown",
   "id": "9fdba9c4-912a-4c3e-afc8-af4a16878393",
   "metadata": {},
   "source": []
  },
  {
   "cell_type": "markdown",
   "id": "8a8528b2-c364-4dba-a467-ad4063f53fc6",
   "metadata": {},
   "source": []
  },
  {
   "cell_type": "markdown",
   "id": "bca110b8-d304-4651-babd-627bfd558f7a",
   "metadata": {},
   "source": []
  },
  {
   "cell_type": "markdown",
   "id": "e8b02db6-7c76-48ef-8932-913743d8fbd7",
   "metadata": {},
   "source": []
  },
  {
   "cell_type": "markdown",
   "id": "566cdfd6-74f8-4586-86d0-f17358c6953b",
   "metadata": {},
   "source": []
  },
  {
   "cell_type": "markdown",
   "id": "9f950e00-7313-4373-9e83-d3aad53a2d97",
   "metadata": {},
   "source": []
  },
  {
   "cell_type": "markdown",
   "id": "4c6a0163-2edf-4abf-b3b6-9c49380ac02d",
   "metadata": {},
   "source": []
  },
  {
   "cell_type": "markdown",
   "id": "d5886fc2-5e00-49e8-8a32-d0d362f68fe9",
   "metadata": {},
   "source": []
  },
  {
   "cell_type": "markdown",
   "id": "e53697de-3926-4876-bbab-0cfc6318fff8",
   "metadata": {},
   "source": []
  },
  {
   "cell_type": "markdown",
   "id": "f5059f9c-7cab-4e68-9230-e4155054cc61",
   "metadata": {},
   "source": []
  },
  {
   "cell_type": "markdown",
   "id": "7c29133e-f16b-44eb-b3d9-fbdc8db8bc74",
   "metadata": {},
   "source": []
  },
  {
   "cell_type": "markdown",
   "id": "3df9d7a1-7269-4342-b8fd-1914fe4c0f42",
   "metadata": {},
   "source": []
  },
  {
   "cell_type": "markdown",
   "id": "9d476be1-7ad2-4729-944c-385a757949e9",
   "metadata": {},
   "source": []
  },
  {
   "cell_type": "markdown",
   "id": "e4d6208d-ab6a-4195-b4fb-67b4cae55919",
   "metadata": {},
   "source": []
  },
  {
   "cell_type": "markdown",
   "id": "f897ae5a-f647-4b14-abf6-29bf9a57a1d8",
   "metadata": {},
   "source": []
  },
  {
   "cell_type": "markdown",
   "id": "6021f554-4ccf-41f4-88b3-d6d24932d14c",
   "metadata": {},
   "source": []
  },
  {
   "cell_type": "markdown",
   "id": "9072b6d6-6f66-40cd-8150-e294d6fb71c1",
   "metadata": {},
   "source": []
  },
  {
   "cell_type": "markdown",
   "id": "0fcbc6bf-6e90-418a-9796-ba49a54da103",
   "metadata": {},
   "source": []
  },
  {
   "cell_type": "markdown",
   "id": "0813ae08-3fa8-4aed-8d44-8e34093611ad",
   "metadata": {},
   "source": []
  },
  {
   "cell_type": "markdown",
   "id": "f4bd5e16-1687-4aa2-a739-488f8a1e632e",
   "metadata": {},
   "source": []
  },
  {
   "cell_type": "markdown",
   "id": "4b634b72-70a4-458c-88a4-decbecceeb4d",
   "metadata": {},
   "source": []
  },
  {
   "cell_type": "markdown",
   "id": "24b2616c-66cf-4b53-b1cc-ce08c4575b20",
   "metadata": {},
   "source": []
  }
 ],
 "metadata": {
  "kernelspec": {
   "display_name": "Python 3 (ipykernel)",
   "language": "python",
   "name": "python3"
  },
  "language_info": {
   "codemirror_mode": {
    "name": "ipython",
    "version": 3
   },
   "file_extension": ".py",
   "mimetype": "text/x-python",
   "name": "python",
   "nbconvert_exporter": "python",
   "pygments_lexer": "ipython3",
   "version": "3.11.0"
  }
 },
 "nbformat": 4,
 "nbformat_minor": 5
}
