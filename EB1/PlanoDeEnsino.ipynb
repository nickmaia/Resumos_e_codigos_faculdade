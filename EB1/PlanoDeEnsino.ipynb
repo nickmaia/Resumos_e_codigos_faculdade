{
 "cells": [
  {
   "cell_type": "markdown",
   "id": "a7bb5d1b-7634-4152-97a0-2c5d96c3ef41",
   "metadata": {},
   "source": [
    "# ENGENHARIA BIOQUÍMICA 1"
   ]
  },
  {
   "cell_type": "markdown",
   "id": "723fed48-98c3-4ec5-9b47-a5945ee39457",
   "metadata": {},
   "source": [
    "<center>\n",
    "    <img src=\"https://s1.static.brasilescola.uol.com.br/be/conteudo/images/a1920503b0aed5104c1b0c72d79dcf1b.jpg\"\n",
    "         height=\"100%\" width=\"100%\"\n",
    "         />\n",
    "</center>"
   ]
  },
  {
   "cell_type": "markdown",
   "id": "82ecee57-3ad0-4ad7-b68a-11d56e49e48d",
   "metadata": {},
   "source": [
    "--------------------------"
   ]
  },
  {
   "cell_type": "markdown",
   "id": "c54ec615-0733-45d0-b534-14f41b56294b",
   "metadata": {},
   "source": [
    "- ``Docente:`` Diego Andrade Lemos\n",
    "- ``email:`` diego.lemos@uftm.edu.br\n",
    "- ``Curso:`` Engenharia Química"
   ]
  },
  {
   "cell_type": "markdown",
   "id": "faec6098-8bb5-4084-a0b9-aeb0c0b6545e",
   "metadata": {},
   "source": [
    "--------------------------"
   ]
  },
  {
   "cell_type": "markdown",
   "id": "8e8e0df7-f2c4-4902-9402-89d8b4214633",
   "metadata": {},
   "source": [
    "##### Do que se trata?\n",
    "Possibilitar ao aluno trabalhar a cinética envolvida em bioprocessos enzimáticos e microbianos.\n",
    "Capacitar o aluno a identificar um bioprocesso e realizar, por meio do conhecimento cinético, o projeto de reatores enzimáticos e microbianos convencionais e não convencionais."
   ]
  },
  {
   "cell_type": "markdown",
   "id": "7097431b-ef2a-47f9-b6a4-7372ebbde4c5",
   "metadata": {},
   "source": [
    "--------------------------"
   ]
  },
  {
   "cell_type": "markdown",
   "id": "6c58c85e-b42b-4b8d-8e44-3eb5b3f48641",
   "metadata": {},
   "source": [
    "## EMENTA\n",
    "- Noções de microbiologia industrial.\n",
    "- Metabolismo microbiano.\n",
    "- Cinética do crescimento e morte celular.\n",
    "- Cinética de processos fermentativos.\n",
    "- Inibição. Cinética de reações Enzimáticas.\n",
    "- Enzimas Imobilizadas.\n",
    "- Produção de enzimas e catálise enzimática aplicada.\n",
    "\n"
   ]
  },
  {
   "cell_type": "markdown",
   "id": "65534a87-d9d2-4505-8b38-7af6456dc805",
   "metadata": {},
   "source": [
    "--------------------------"
   ]
  },
  {
   "cell_type": "markdown",
   "id": "8520e81c-9392-4fb7-be24-cdcb63952e2e",
   "metadata": {},
   "source": [
    "## BIBLIOGRAFIA\n",
    "#### Básica\n",
    "1. SHULER, M. L. & Kargi, F.Bioprocess Engineering. Basic concepts. Prentice Hall, 1992.\n",
    "2. BLANCH, H.W. Biochemical Engineering. 2 ed. CRC Press. 2007.\n",
    "3. DORAN, Pauline M. Bioprocess Engineering Principles. Academic Press -2012.\n",
    "#### Complementar\n",
    "1. KOMPALA, Dhinakar S. Bioprocess Engineering Fundamentals and Applications. CRC PRESS.\n",
    "2. YU, P. L. Fermentation Technology- Industrial Application. Kluwer Academic, 1990.\n",
    "3. SCHUGERL, K. Zeng, A. P. Tools and applications of biochemical engineering. Springer Verlag New York, 2002.  \n",
    "4. LADISCH, Michael. Bioseparations engineering Principles, Practice and Economics. John Wiley Professio, 2001. \n",
    "5. FIECHTER, A. Modern Biochemical Engineering. Springer verlag NY, 1992.\n",
    "#### Importante\n",
    "\n",
    "    Biotecnologia industrial (Volume 01):\n",
    "Link:\n",
    "https://integrada.minhabiblioteca.com.br/reader/books/9788521218975/pageid/0\n",
    "\n",
    "    Biotecnologia industrial (Volume 02):\n",
    "Link:\n",
    "https://integrada.minhabiblioteca.com.br/reader/books/9788521215189/pageid/0"
   ]
  },
  {
   "cell_type": "markdown",
   "id": "91d7807c-19ea-44e6-86cd-548d7af897ff",
   "metadata": {},
   "source": [
    "--------------------------"
   ]
  },
  {
   "cell_type": "markdown",
   "id": "1ca965bf-3f58-47a9-9835-fe6ddd19d311",
   "metadata": {},
   "source": [
    "## CRONOGRAMA\n",
    "\n",
    "### Pré-Prova:\n",
    "    Atividade em Sala (Prova 01) - 17/01/2023\n",
    "    Atividade em Sala (Prova 02) - 14/03/2023\n",
    "\n",
    "### Provas:\n",
    "    Prova 01 - 18/01/2023\n",
    "    Prova 02 - 15/03/2023\n",
    "\n",
    "### Seminários:\n",
    "    Seminário 01 (Parte 1) - 03/01/2023\n",
    "    Seminário 01 (Parte 2) - 04/01/2023\n",
    "    Seminário 02 (Parte 1) - 21/03/2023\n",
    "    Seminário 02 (Parte 2) - 22/03/2023\n",
    "\n",
    "### Estudo de Caso:\n",
    "    Estudo de Caso 01 - 14/12/2022\n",
    "    Estudo de Caso 02 - 28/03/2023\n"
   ]
  },
  {
   "cell_type": "markdown",
   "id": "505e05e2-c01b-409e-9f4c-c18891ba73cc",
   "metadata": {},
   "source": [
    "--------------------------"
   ]
  },
  {
   "cell_type": "markdown",
   "id": "b916b9ea-5609-41e5-b552-63148bb78fed",
   "metadata": {},
   "source": [
    "## AVALIAÇÃO\n",
    "- Seminários (2) – 20 %\n",
    "- Estudos de caso (2) – 20%\n",
    "- Atividades (durante o semestre) – 20%\n",
    "- Prova (2) – 40%\n"
   ]
  },
  {
   "cell_type": "markdown",
   "id": "0784f0bd-490f-4e09-9cf1-f21e237bb869",
   "metadata": {},
   "source": [
    "--------------------------"
   ]
  }
 ],
 "metadata": {
  "kernelspec": {
   "display_name": "Python 3 (ipykernel)",
   "language": "python",
   "name": "python3"
  },
  "language_info": {
   "codemirror_mode": {
    "name": "ipython",
    "version": 3
   },
   "file_extension": ".py",
   "mimetype": "text/x-python",
   "name": "python",
   "nbconvert_exporter": "python",
   "pygments_lexer": "ipython3",
   "version": "3.11.0"
  }
 },
 "nbformat": 4,
 "nbformat_minor": 5
}
