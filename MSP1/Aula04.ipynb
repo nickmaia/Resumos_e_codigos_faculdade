{
 "cells": [
  {
   "cell_type": "markdown",
   "id": "4ed3e4b4-73e9-48bb-983f-d84967c53768",
   "metadata": {},
   "source": [
    "<h2 align=\"center\" style=\"color:black\">MODELAGEM DE SISTEMAS A\n",
    "PARÂMETROS CONCENTRADOS</h2>"
   ]
  }
 ],
 "metadata": {
  "kernelspec": {
   "display_name": "Python 3 (ipykernel)",
   "language": "python",
   "name": "python3"
  },
  "language_info": {
   "codemirror_mode": {
    "name": "ipython",
    "version": 3
   },
   "file_extension": ".py",
   "mimetype": "text/x-python",
   "name": "python",
   "nbconvert_exporter": "python",
   "pygments_lexer": "ipython3",
   "version": "3.11.0"
  }
 },
 "nbformat": 4,
 "nbformat_minor": 5
}
