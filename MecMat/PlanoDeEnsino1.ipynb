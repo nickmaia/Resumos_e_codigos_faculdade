{
 "cells": [
  {
   "cell_type": "markdown",
   "id": "a7bb5d1b-7634-4152-97a0-2c5d96c3ef41",
   "metadata": {},
   "source": [
    "<h1 align=\"center\" style=\"color:black\">Mecânica dos Materiais</h1>"
   ]
  },
  {
   "cell_type": "markdown",
   "id": "723fed48-98c3-4ec5-9b47-a5945ee39457",
   "metadata": {},
   "source": [
    "<center>\n",
    "    <img src=\"https://w1.pngwing.com/pngs/318/735/png-transparent-stress-bending-beam-strength-of-materials-neutral-axis-elasticity-cross-section-bahan.png\"\n",
    "         height=\"100%\" width=\"100%\"\n",
    "         />\n",
    "</center>"
   ]
  },
  {
   "cell_type": "markdown",
   "id": "82ecee57-3ad0-4ad7-b68a-11d56e49e48d",
   "metadata": {},
   "source": [
    "--------------------------"
   ]
  },
  {
   "cell_type": "markdown",
   "id": "c54ec615-0733-45d0-b534-14f41b56294b",
   "metadata": {},
   "source": [
    "- ``Docente:`` Albert Willian Faria\n",
    "- ``email:`` albert.faria@uftm.edu.br"
   ]
  },
  {
   "cell_type": "markdown",
   "id": "faec6098-8bb5-4084-a0b9-aeb0c0b6545e",
   "metadata": {},
   "source": [
    "--------------------------"
   ]
  },
  {
   "cell_type": "markdown",
   "id": "6c58c85e-b42b-4b8d-8e44-3eb5b3f48641",
   "metadata": {},
   "source": [
    "## EMENTA\n",
    "\n",
    "- Estática da partícula. \n",
    "- Corpos rígidos. \n",
    "- Forças equivalentes. \n",
    "- Equilíbrio dos corpos rígidos. \n",
    "- Vínculos. \n",
    "- Centro de gravidade e centroide. \n",
    "- Cargas distribuídas. \n",
    "- Momento de inércia de figuras planas. \n",
    "- Tensão e deformação. \n",
    "- Tensão Normal. \n",
    "- Tensão cisalhante.\n"
   ]
  },
  {
   "cell_type": "markdown",
   "id": "65534a87-d9d2-4505-8b38-7af6456dc805",
   "metadata": {},
   "source": [
    "--------------------------"
   ]
  },
  {
   "cell_type": "markdown",
   "id": "8520e81c-9392-4fb7-be24-cdcb63952e2e",
   "metadata": {},
   "source": [
    "## BIBLIOGRAFIA\n",
    "\n",
    "#### Básica \n",
    "1 – HIBBELER, R. C., Mecânica para a Engenharia – estática, 12 ed.  Editora Prentice Hall, 2011, 512p.\n",
    "\n",
    "2 – BEER, F. P. e EISENBERG, E. R., Mecânica Vetorial para Engenheiro, vol. 1 - Estática, Editora McGraw-Hill-Artmed, 7 ed., 2006.\n",
    "\n",
    "3 – BEER, F. P. e DEWOLF, J. T., Resistência dos Materiais, Editora McGraw-Hill-Artmed, 4 ed., 2006.\n",
    "\n",
    "\n",
    "#### Complementar\n",
    "\n",
    "1 – HIBBELER, R. C., Resistência dos Materiais, 7 ed., Editora Prentice Hall, 2010, 637p.\n",
    "\n",
    "2 – SHAMES, I. H., Estática: mecânica para engenheiros, vol. 1, Pearson Education do Brasil, 4 ed., 2002, 468p.\n",
    "\n",
    "3 – MELCONIAN, S., Mecânica técnica e resistência dos materiais, Editora Érica Ltda, 18 ed., 2009.\n",
    "\n",
    "4 – CRAIG, R.R.J., Mecânica dos Materiais. LTC editora, 2 ed., 2003, 552p.\n",
    "\n",
    "5 – MERIAM, J. L., KRAIGE, L.G., Mecânica para engenharia: estática, vol. 1, LTC, 6 ed., 2009."
   ]
  },
  {
   "cell_type": "markdown",
   "id": "91d7807c-19ea-44e6-86cd-548d7af897ff",
   "metadata": {},
   "source": [
    "--------------------------"
   ]
  },
  {
   "cell_type": "markdown",
   "id": "1ca965bf-3f58-47a9-9835-fe6ddd19d311",
   "metadata": {},
   "source": [
    "## CRONOGRAMA\n",
    "\n",
    "### Provas:\n",
    "    P1 - 07/02/23\n",
    "    P2 - 23/03/23\n",
    "    Exame - 13/4/23\n",
    "### Listas:\n",
    "    Lista 01 - 07/02/23\n",
    "    Lista 02 - 23/03/23"
   ]
  },
  {
   "cell_type": "markdown",
   "id": "505e05e2-c01b-409e-9f4c-c18891ba73cc",
   "metadata": {},
   "source": [
    "--------------------------"
   ]
  },
  {
   "cell_type": "markdown",
   "id": "b916b9ea-5609-41e5-b552-63148bb78fed",
   "metadata": {},
   "source": [
    "## AVALIAÇÃO\n",
    "     P1 - 0.40\n",
    "     P2 - 0.40\n",
    "     Lista 01 - 0.10\n",
    "     Lista 02 - 0.10"
   ]
  },
  {
   "cell_type": "markdown",
   "id": "0784f0bd-490f-4e09-9cf1-f21e237bb869",
   "metadata": {},
   "source": [
    "--------------------------"
   ]
  },
  {
   "cell_type": "markdown",
   "id": "66eb5895-5d24-44f6-8e11-6063506f3f32",
   "metadata": {},
   "source": [
    "## ATENDIMENTO\n",
    "    1 - Marcar atendimento via email\n"
   ]
  }
 ],
 "metadata": {
  "kernelspec": {
   "display_name": "Python 3 (ipykernel)",
   "language": "python",
   "name": "python3"
  },
  "language_info": {
   "codemirror_mode": {
    "name": "ipython",
    "version": 3
   },
   "file_extension": ".py",
   "mimetype": "text/x-python",
   "name": "python",
   "nbconvert_exporter": "python",
   "pygments_lexer": "ipython3",
   "version": "3.11.0"
  }
 },
 "nbformat": 4,
 "nbformat_minor": 5
}
