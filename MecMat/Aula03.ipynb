{
 "cells": [
  {
   "cell_type": "markdown",
   "id": "d4560bf5-45de-4382-b203-082a1f569947",
   "metadata": {},
   "source": [
    "<h3 align=\"center\" style=\"color:gray\">Sistema de Cargas</h3>"
   ]
  },
  {
   "cell_type": "markdown",
   "id": "5bff5007-194c-4ff2-9428-aa70fa6f709d",
   "metadata": {},
   "source": [
    "---"
   ]
  },
  {
   "cell_type": "markdown",
   "id": "d08ca69b-5f43-47a8-b148-6c535f7c520f",
   "metadata": {},
   "source": [
    "### Introdução"
   ]
  },
  {
   "cell_type": "markdown",
   "id": "61a1ac21-d8bf-4d4a-a488-f42b5c354ab4",
   "metadata": {},
   "source": [
    "---"
   ]
  },
  {
   "cell_type": "markdown",
   "id": "e4c50c07-be5d-4c8c-8524-acfb94207b2b",
   "metadata": {},
   "source": []
  },
  {
   "cell_type": "markdown",
   "id": "023d3e88-cb42-46be-aa1c-cc3d575ed013",
   "metadata": {},
   "source": []
  },
  {
   "cell_type": "markdown",
   "id": "52ae1d5f-79b4-44bb-89a3-25cd7e1d9f58",
   "metadata": {},
   "source": []
  },
  {
   "cell_type": "markdown",
   "id": "e6e04e59-77bf-48b4-937f-7e4fa28b79b4",
   "metadata": {},
   "source": []
  },
  {
   "cell_type": "markdown",
   "id": "bc5f83a2-ab5e-446e-8909-4f724ae8eb5f",
   "metadata": {},
   "source": []
  },
  {
   "cell_type": "markdown",
   "id": "b348b66e-71cb-4c3d-b587-11e2bc018b6c",
   "metadata": {},
   "source": []
  },
  {
   "cell_type": "markdown",
   "id": "bed8c12b-9823-484b-9277-9b4f4617439b",
   "metadata": {},
   "source": []
  },
  {
   "cell_type": "markdown",
   "id": "2ed39bd0-4a3a-44c7-a119-951b5bb2d508",
   "metadata": {},
   "source": []
  },
  {
   "cell_type": "markdown",
   "id": "06235c48-a323-45a7-907f-99fcb019004a",
   "metadata": {},
   "source": []
  },
  {
   "cell_type": "markdown",
   "id": "001f4662-a2b0-4683-8a55-e88e23bce1bf",
   "metadata": {},
   "source": []
  },
  {
   "cell_type": "markdown",
   "id": "cc74448b-eac2-4198-85a9-4ecbd1f388d6",
   "metadata": {},
   "source": []
  },
  {
   "cell_type": "markdown",
   "id": "6baa8be5-7154-4774-afc4-12327ddd0c4e",
   "metadata": {},
   "source": []
  },
  {
   "cell_type": "markdown",
   "id": "7c01f4fd-878c-4357-8085-3e99d476b199",
   "metadata": {},
   "source": []
  },
  {
   "cell_type": "markdown",
   "id": "b1215abd-f7d9-4958-b219-284ea7f7f9d4",
   "metadata": {},
   "source": []
  },
  {
   "cell_type": "markdown",
   "id": "c25f14ff-1666-4e08-8fb4-ab9d41a9386b",
   "metadata": {},
   "source": []
  },
  {
   "cell_type": "markdown",
   "id": "273ee461-82d6-49ab-8f1e-e9f684988b95",
   "metadata": {},
   "source": []
  },
  {
   "cell_type": "markdown",
   "id": "5817631e-6087-46ba-9ca6-d9ac14529865",
   "metadata": {},
   "source": []
  },
  {
   "cell_type": "markdown",
   "id": "6a9e45c9-6f5f-4fc5-a689-741263de1dae",
   "metadata": {},
   "source": []
  },
  {
   "cell_type": "markdown",
   "id": "e6100559-2d5f-4f41-966b-cfc4b11e228d",
   "metadata": {},
   "source": []
  },
  {
   "cell_type": "markdown",
   "id": "fca018f9-7101-423a-a308-8e6a59c80abe",
   "metadata": {},
   "source": []
  },
  {
   "cell_type": "markdown",
   "id": "a8e8dd70-141f-4b0c-84ca-980fb245394d",
   "metadata": {},
   "source": []
  },
  {
   "cell_type": "markdown",
   "id": "90cb68c8-689e-4c26-9dcb-4e4cda9c5ac8",
   "metadata": {},
   "source": []
  },
  {
   "cell_type": "markdown",
   "id": "26904693-b2c7-4be6-ac3d-9f2adb2a5f33",
   "metadata": {},
   "source": []
  },
  {
   "cell_type": "markdown",
   "id": "e39ddb14-1c44-4b71-b74b-dbd6bb26847c",
   "metadata": {},
   "source": []
  },
  {
   "cell_type": "markdown",
   "id": "0046d824-db57-4575-b10f-037a5e39f7b4",
   "metadata": {},
   "source": []
  },
  {
   "cell_type": "markdown",
   "id": "21dc224d-0c00-44b9-82c7-97a9b2ad484d",
   "metadata": {},
   "source": []
  },
  {
   "cell_type": "markdown",
   "id": "ed831d7f-b9a1-4f02-bce5-c7c99ddd5b7a",
   "metadata": {},
   "source": []
  },
  {
   "cell_type": "markdown",
   "id": "95a98d50-1611-47b4-a611-a73ad5f4ea34",
   "metadata": {},
   "source": []
  },
  {
   "cell_type": "markdown",
   "id": "985dbb80-49db-4875-97a3-3afb073dc5a5",
   "metadata": {},
   "source": []
  },
  {
   "cell_type": "markdown",
   "id": "5bf47560-c29d-4254-bc3f-94ef6d788c0e",
   "metadata": {},
   "source": []
  },
  {
   "cell_type": "markdown",
   "id": "6b1c5048-7f8b-491c-8ba3-2ae7dab80047",
   "metadata": {},
   "source": []
  },
  {
   "cell_type": "markdown",
   "id": "6fcb76ee-a59c-491d-9240-f80e0e4848b6",
   "metadata": {},
   "source": []
  },
  {
   "cell_type": "markdown",
   "id": "ff24ea8b-ea96-4337-b5c7-6741f46d4ce1",
   "metadata": {},
   "source": []
  },
  {
   "cell_type": "markdown",
   "id": "7451fda9-22d4-40c3-bb2e-3dd0fadb40f8",
   "metadata": {},
   "source": []
  },
  {
   "cell_type": "markdown",
   "id": "d2f20a56-6589-4c56-8963-89515261bce6",
   "metadata": {},
   "source": []
  },
  {
   "cell_type": "markdown",
   "id": "2b23ea40-b5d8-4c2f-9efb-7837fc9a1473",
   "metadata": {},
   "source": []
  },
  {
   "cell_type": "markdown",
   "id": "4d5cf901-46c3-4034-bd43-91e654eaf88e",
   "metadata": {},
   "source": []
  },
  {
   "cell_type": "markdown",
   "id": "2b2aca94-65ad-410f-9b9e-07cc4555ff84",
   "metadata": {},
   "source": []
  },
  {
   "cell_type": "markdown",
   "id": "c9315a6b-f405-4cc6-aa51-f19287892bd2",
   "metadata": {},
   "source": []
  }
 ],
 "metadata": {
  "kernelspec": {
   "display_name": "Python 3 (ipykernel)",
   "language": "python",
   "name": "python3"
  },
  "language_info": {
   "codemirror_mode": {
    "name": "ipython",
    "version": 3
   },
   "file_extension": ".py",
   "mimetype": "text/x-python",
   "name": "python",
   "nbconvert_exporter": "python",
   "pygments_lexer": "ipython3",
   "version": "3.11.0"
  }
 },
 "nbformat": 4,
 "nbformat_minor": 5
}
