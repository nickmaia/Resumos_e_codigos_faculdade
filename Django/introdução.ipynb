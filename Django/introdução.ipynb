{
 "cells": [
  {
   "cell_type": "markdown",
   "id": "ac30b874-fc79-4492-8a1c-32631291963f",
   "metadata": {},
   "source": [
    "##  Introdução"
   ]
  },
  {
   "cell_type": "markdown",
   "id": "46ce577d-65ff-4061-835e-fff4dcbcfcde",
   "metadata": {},
   "source": [
    "Django é um framework web gratuito e de código aberto escrito em Python. Ele segue o padrão de arquitetura model-template-view. O Django é uma ferramenta poderosa para criar aplicativos da Web e fornece muitos recursos e ferramentas para ajudá-lo a criar seus projetos de maneira rápida e eficiente.\n",
    "\n",
    "Para iniciar um novo projeto Django, você precisará instalar o Django em sua máquina. Isso pode ser feito usando o pip, o gerenciador de pacotes do Python. Abra um terminal e execute o seguinte comando:"
   ]
  },
  {
   "cell_type": "markdown",
   "id": "79c856e4-6e8b-45f2-a30b-f90735a45eaf",
   "metadata": {},
   "source": [
    "**pip install django**"
   ]
  },
  {
   "cell_type": "markdown",
   "id": "5b5f9a1d-351e-47fe-a4d3-8f047335491a",
   "metadata": {},
   "source": [
    "Uma vez instalado o Django, você pode criar um novo projeto usando o comando django-admin startproject. Isso criará um novo diretório com o mesmo nome do seu projeto e conterá os arquivos e diretórios básicos necessários para começar."
   ]
  },
  {
   "cell_type": "markdown",
   "id": "d079a256-3149-4b9d-a0f2-8d993ed5b98d",
   "metadata": {},
   "source": [
    "**django-admin startproject myproject**\n"
   ]
  },
  {
   "cell_type": "markdown",
   "id": "a512738b-e708-41a3-a05f-68287561a26c",
   "metadata": {},
   "source": [
    "Isso criará um novo diretório chamado myproject e conterá os seguintes arquivos e diretórios:\n",
    "\n",
    "- **manage.py:** Um utilitário de linha de comando que permite interagir com este projeto Django de várias maneiras.\n",
    "- **myproject/:** O diretório raiz do seu projeto.\n",
    "- **myproject/__init__.py:** Um arquivo vazio que diz ao Python que este diretório deve ser considerado um pacote Python.\n",
    "- **myproject/settings.py:** Configurações para este projeto Django. As configurações do Django lhe dirão tudo sobre como as configurações funcionam.\n",
    "- **myproject/urls.py:** As declarações de URL para este projeto Django; um \"índice\" do seu site com Django. Você pode ler mais sobre URLs no URL dispatcher.\n",
    "- **myproject/asgi.py:** Um ponto de entrada para servidores da web compatíveis com ASGI para atender seu projeto.\n",
    "- **myproject/wsgi.py:** Um ponto de entrada para servidores da web compatíveis com WSGI para atender seu projeto.\n",
    "\n",
    "Depois de criar seu projeto, você pode começar a criar seu aplicativo da web. O Django fornece muitos recursos e ferramentas para ajudá-lo a construir seu aplicativo, incluindo uma camada de banco de dados, mecanismo de modelo e manipulação de formulário. Você pode encontrar mais informações sobre esses recursos na documentação do Django."
   ]
  },
  {
   "cell_type": "markdown",
   "id": "64843fec-16e3-4b4c-8882-9e59eb951c2a",
   "metadata": {},
   "source": [
    "Para criar um aplicativo, use o comando django-admin startapp. Isso criará um novo diretório com o mesmo nome do seu aplicativo e conterá os arquivos e diretórios básicos necessários para começar."
   ]
  },
  {
   "cell_type": "markdown",
   "id": "aa53eae4-578c-4c34-ae26-218d7d21748d",
   "metadata": {},
   "source": [
    "Isso criará um novo diretório chamado myapp e conterá os seguintes arquivos e diretórios:\n",
    "\n",
    "- **__init__.py:** Um arquivo vazio que diz ao Python que este diretório deve ser considerado um pacote Python.\n",
    "- **admin.py:** Um arquivo que contém a configuração do site de administração do Django.\n",
    "- **apps.py:** Um arquivo que contém a configuração para este aplicativo Django.\n",
    "- **migrations/:** um diretório que contém migrações de banco de dados para este aplicativo.\n",
    "- **models.py:** Um arquivo que contém os modelos para este aplicativo. Um modelo é uma classe Python que representa uma tabela de banco de dados.\n",
    "- **testes.py:** Um arquivo que contém testes para este aplicativo.\n",
    "- **views.py:** um arquivo que contém as visualizações para este aplicativo. Uma visualização é uma função do Python que recebe uma solicitação da Web e retorna uma resposta da Web.\n",
    "\n",
    "Agora que você criou seu projeto e aplicativo Django, pode começar a criar seu aplicativo da web. Você pode fazer isso criando modelos para representar os dados em seu aplicativo, criando exibições para manipular solicitações HTTP e renderizar modelos e criar modelos para definir a estrutura HTML de suas páginas.\n",
    "\n",
    "Para saber mais sobre o Django, você pode consultar a documentação do Django, que abrange todos os aspectos do desenvolvimento do Django em detalhes. Você também pode encontrar muitos recursos online, incluindo tutoriais e código de amostra, para ajudá-lo a começar seu projeto Django."
   ]
  },
  {
   "cell_type": "markdown",
   "id": "306c9057-0f1e-4090-be6f-dbf1d1a24690",
   "metadata": {},
   "source": []
  },
  {
   "cell_type": "markdown",
   "id": "ed008491-f81e-4346-84c4-f1b7d5a7855b",
   "metadata": {},
   "source": []
  },
  {
   "cell_type": "markdown",
   "id": "70417f70-5cb8-4b76-9af9-d8b599b528e8",
   "metadata": {},
   "source": []
  },
  {
   "cell_type": "markdown",
   "id": "629e35ec-4218-490a-9c8d-1920d24de947",
   "metadata": {},
   "source": []
  },
  {
   "cell_type": "markdown",
   "id": "ac5b0959-b9c1-41d2-bfbe-2b8ad47487d5",
   "metadata": {},
   "source": []
  },
  {
   "cell_type": "markdown",
   "id": "cb0f71a5-fa99-43bf-b9af-ff9c57cb7201",
   "metadata": {},
   "source": []
  },
  {
   "cell_type": "markdown",
   "id": "5044c893-469e-42e0-821a-c995fa165734",
   "metadata": {},
   "source": []
  },
  {
   "cell_type": "markdown",
   "id": "1e4c3896-e343-4898-baf7-baa337060fe2",
   "metadata": {},
   "source": []
  },
  {
   "cell_type": "markdown",
   "id": "54d3f8da-aa05-4bb8-a754-3b1dfbfb7f34",
   "metadata": {},
   "source": []
  },
  {
   "cell_type": "markdown",
   "id": "0a3bf0b3-e9c6-4dcb-8ffd-d91104b286cc",
   "metadata": {},
   "source": []
  },
  {
   "cell_type": "markdown",
   "id": "d94c432a-dbf0-4b2c-843e-e0440abc9ac0",
   "metadata": {},
   "source": []
  },
  {
   "cell_type": "markdown",
   "id": "2aa39335-7506-4f8e-8913-223c794b60ce",
   "metadata": {},
   "source": []
  },
  {
   "cell_type": "markdown",
   "id": "ba173a8b-da9f-49ef-aa24-b7766c997cb8",
   "metadata": {},
   "source": []
  },
  {
   "cell_type": "markdown",
   "id": "5968744f-8892-4002-bd9d-34f0e195d419",
   "metadata": {},
   "source": []
  },
  {
   "cell_type": "markdown",
   "id": "ef014e68-50f2-4768-a1c8-7fafca33885a",
   "metadata": {},
   "source": []
  },
  {
   "cell_type": "markdown",
   "id": "9bffcbd7-28ac-4234-8b10-be4ed403ba5d",
   "metadata": {},
   "source": []
  },
  {
   "cell_type": "markdown",
   "id": "0dece79b-c35c-458c-84a6-2d8dc8df4107",
   "metadata": {},
   "source": []
  },
  {
   "cell_type": "markdown",
   "id": "c2f6568a-91a4-4876-bf57-903e0450a7bc",
   "metadata": {},
   "source": []
  },
  {
   "cell_type": "markdown",
   "id": "e293f850-0d77-4e87-9da8-7440a7ba44c1",
   "metadata": {},
   "source": []
  },
  {
   "cell_type": "markdown",
   "id": "a6b7502e-a8d0-418b-bd87-21bb25ec63b5",
   "metadata": {},
   "source": []
  },
  {
   "cell_type": "markdown",
   "id": "78f69c45-81aa-45e7-a629-6e14a5c7b9f7",
   "metadata": {},
   "source": []
  },
  {
   "cell_type": "markdown",
   "id": "2286dc09-7eb7-4dbe-9bb7-f073e6a15f7d",
   "metadata": {},
   "source": []
  },
  {
   "cell_type": "markdown",
   "id": "4a1f7fb5-7e05-4669-9375-4afe52245933",
   "metadata": {},
   "source": []
  },
  {
   "cell_type": "markdown",
   "id": "814f613e-831b-4ddb-8a6d-ec8fd1d33216",
   "metadata": {},
   "source": []
  },
  {
   "cell_type": "markdown",
   "id": "9d0dd3da-dfa5-4a41-9f71-78b0caa31cf1",
   "metadata": {},
   "source": []
  },
  {
   "cell_type": "markdown",
   "id": "ecdc7b48-88df-494a-93d3-5caa13d4a09d",
   "metadata": {},
   "source": []
  },
  {
   "cell_type": "markdown",
   "id": "b11edd7e-bdf5-4ea7-a088-1c6f66eef0ed",
   "metadata": {},
   "source": []
  },
  {
   "cell_type": "markdown",
   "id": "17869f30-6857-4468-add9-1916f29d063f",
   "metadata": {},
   "source": []
  },
  {
   "cell_type": "markdown",
   "id": "52920084-0d9e-4803-8364-d3fb670a8734",
   "metadata": {},
   "source": []
  },
  {
   "cell_type": "markdown",
   "id": "bb96aff8-322b-4dba-b9fe-2e224e6569bf",
   "metadata": {},
   "source": []
  },
  {
   "cell_type": "markdown",
   "id": "3bc1ed6c-553b-4373-a4ba-10e7595b0827",
   "metadata": {},
   "source": []
  },
  {
   "cell_type": "markdown",
   "id": "01b5116e-f006-4d17-9124-65fed6d9f08f",
   "metadata": {},
   "source": []
  },
  {
   "cell_type": "markdown",
   "id": "ad56a20b-7147-4ad7-ac17-865c8d92dafc",
   "metadata": {},
   "source": []
  },
  {
   "cell_type": "markdown",
   "id": "a20173e3-fb8c-41d6-bf98-a2dd71b8b5a3",
   "metadata": {},
   "source": []
  },
  {
   "cell_type": "markdown",
   "id": "3957db08-8f7a-49d6-9575-713bdd9f9de3",
   "metadata": {},
   "source": []
  }
 ],
 "metadata": {
  "kernelspec": {
   "display_name": "Python 3 (ipykernel)",
   "language": "python",
   "name": "python3"
  },
  "language_info": {
   "codemirror_mode": {
    "name": "ipython",
    "version": 3
   },
   "file_extension": ".py",
   "mimetype": "text/x-python",
   "name": "python",
   "nbconvert_exporter": "python",
   "pygments_lexer": "ipython3",
   "version": "3.11.0"
  }
 },
 "nbformat": 4,
 "nbformat_minor": 5
}
